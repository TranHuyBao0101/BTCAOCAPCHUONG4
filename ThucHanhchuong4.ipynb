{
  "nbformat": 4,
  "nbformat_minor": 0,
  "metadata": {
    "colab": {
      "name": "ThucHanhchuong4.ipynb",
      "provenance": [],
      "authorship_tag": "ABX9TyM7/U/dlVdxacl1UyyD0FJ9",
      "include_colab_link": true
    },
    "kernelspec": {
      "name": "python3",
      "display_name": "Python 3"
    },
    "language_info": {
      "name": "python"
    }
  },
  "cells": [
    {
      "cell_type": "markdown",
      "metadata": {
        "id": "view-in-github",
        "colab_type": "text"
      },
      "source": [
        "<a href=\"https://colab.research.google.com/github/TranHuyBao0101/BTCAOCAPCHUONG4/blob/main/ThucHanhchuong4.ipynb\" target=\"_parent\"><img src=\"https://colab.research.google.com/assets/colab-badge.svg\" alt=\"Open In Colab\"/></a>"
      ]
    },
    {
      "cell_type": "code",
      "execution_count": 2,
      "metadata": {
        "id": "2BaaR_hIJTSA"
      },
      "outputs": [],
      "source": [
        "import numpy as np\n"
      ]
    },
    {
      "cell_type": "code",
      "source": [
        "import matplotlib.pyplot as plt\n"
      ],
      "metadata": {
        "id": "r0Fg9BngJay0"
      },
      "execution_count": 1,
      "outputs": []
    },
    {
      "cell_type": "code",
      "source": [
        "fs = [1,2,4]\n",
        "all_time = np.linspace(0,2,200)\n",
        "t=all_time[:100]\n",
        "for f in fs:\n",
        "  y = np.sin(2*np.pi*f*t)\n",
        "plt.plot(t,y,label='{}Hz'.format(f))\n",
        "plt.legend()\n",
        "from google.colab import drive\n",
        "drive.mount('/drive')\n",
        "plt.savefig('/drive/My Drive/ThucHanhchuong4/basics_python.pdf')\n",
        "plt.show()"
      ],
      "metadata": {
        "id": "XLtE_5EUJsv4"
      },
      "execution_count": null,
      "outputs": []
    },
    {
      "cell_type": "markdown",
      "source": [
        "th3"
      ],
      "metadata": {
        "id": "RvQg0T86NzXX"
      }
    },
    {
      "cell_type": "code",
      "source": [
        ""
      ],
      "metadata": {
        "id": "sSUeLFFvN0fu"
      },
      "execution_count": null,
      "outputs": []
    }
  ]
}